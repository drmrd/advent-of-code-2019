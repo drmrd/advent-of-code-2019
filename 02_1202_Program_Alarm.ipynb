{
 "cells": [
  {
   "cell_type": "markdown",
   "metadata": {},
   "source": [
    "<blockquote>\n",
    "<h1>Part 1</h1><br />\n",
    "On the way to your <a href=\"https://en.wikipedia.org/wiki/Gravity_assist\">gravity assist</a> around the Moon, your ship computer beeps angrily about a \"<a href=\"https://www.hq.nasa.gov/alsj/a11/a11.landing.html#1023832\">1202 program alarm</a>\". On the radio, an Elf is already explaining how to handle the situation: \"Don't worry, that's perfectly norma--\" The ship computer <a href=\"https://en.wikipedia.org/wiki/Halt_and_Catch_Fire\">bursts into flames</a>.</p>\n",
    "<p>You notify the Elves that the computer's <a href=\"https://en.wikipedia.org/wiki/Magic_smoke\">magic smoke</a> seems to have <span title=\"Looks like SOMEONE forgot to change the switch to 'more magic'.\">escaped</span>. \"That computer ran <em>Intcode</em> programs like the gravity assist program it was working on; surely there are enough spare parts up there to build a new Intcode computer!\"</p>\n",
    "<p>An Intcode program is a list of <a href=\"https://en.wikipedia.org/wiki/Integer\">integers</a> separated by commas (like <code>1,0,0,3,99</code>).  To run one, start by looking at the first integer (called position <code>0</code>). Here, you will find an <em>opcode</em> - either <code>1</code>, <code>2</code>, or <code>99</code>. The opcode indicates what to do; for example, <code>99</code> means that the program is finished and should immediately halt. Encountering an unknown opcode means something went wrong.</p>\n",
    "<p>Opcode <code>1</code> <em>adds</em> together numbers read from two positions and stores the result in a third position. The three integers <em>immediately after</em> the opcode tell you these three positions - the first two indicate the <em>positions</em> from which you should read the input values, and the third indicates the <em>position</em> at which the output should be stored.</p>\n",
    "<p>For example, if your Intcode computer encounters <code>1,10,20,30</code>, it should read the values at positions <code>10</code> and <code>20</code>, add those values, and then overwrite the value at position <code>30</code> with their sum.</p>\n",
    "<p>Opcode <code>2</code> works exactly like opcode <code>1</code>, except it <em>multiplies</em> the two inputs instead of adding them. Again, the three integers after the opcode indicate <em>where</em> the inputs and outputs are, not their values.</p>\n",
    "<p>Once you're done processing an opcode, <em>move to the next one</em> by stepping forward <code>4</code> positions.</p>\n",
    "<p>For example, suppose you have the following program:</p>\n",
    "<pre><code>1,9,10,3,2,3,11,0,99,30,40,50</code></pre>\n",
    "<p>For the purposes of illustration, here is the same program split into multiple lines:</p>\n",
    "<pre><code>1,9,10,3,\n",
    "2,3,11,0,\n",
    "99,\n",
    "30,40,50\n",
    "</code></pre>\n",
    "<p>The first four integers, <code>1,9,10,3</code>, are at positions <code>0</code>, <code>1</code>, <code>2</code>, and <code>3</code>. Together, they represent the first opcode (<code>1</code>, addition), the positions of the two inputs (<code>9</code> and <code>10</code>), and the position of the output (<code>3</code>).  To handle this opcode, you first need to get the values at the input positions: position <code>9</code> contains <code>30</code>, and position <code>10</code> contains <code>40</code>.  <em>Add</em> these numbers together to get <code>70</code>.  Then, store this value at the output position; here, the output position (<code>3</code>) is <em>at</em> position <code>3</code>, so it overwrites itself.  Afterward, the program looks like this:</p>\n",
    "<pre><code>1,9,10,<em>70</em>,\n",
    "2,3,11,0,\n",
    "99,\n",
    "30,40,50\n",
    "</code></pre>\n",
    "<p>Step forward <code>4</code> positions to reach the next opcode, <code>2</code>. This opcode works just like the previous, but it multiplies instead of adding.  The inputs are at positions <code>3</code> and <code>11</code>; these positions contain <code>70</code> and <code>50</code> respectively. Multiplying these produces <code>3500</code>; this is stored at position <code>0</code>:</p>\n",
    "<pre><code><em>3500</em>,9,10,70,\n",
    "2,3,11,0,\n",
    "99,\n",
    "30,40,50\n",
    "</code></pre>\n",
    "<p>Stepping forward <code>4</code> more positions arrives at opcode <code>99</code>, halting the program.</p>\n",
    "<p>Here are the initial and final states of a few more small programs:</p>\n",
    "<ul>\n",
    "<li><code>1,0,0,0,99</code> becomes <code><em>2</em>,0,0,0,99</code> (<code>1 + 1 = 2</code>).</li>\n",
    "<li><code>2,3,0,3,99</code> becomes <code>2,3,0,<em>6</em>,99</code> (<code>3 * 2 = 6</code>).</li>\n",
    "<li><code>2,4,4,5,99,0</code> becomes <code>2,4,4,5,99,<em>9801</em></code> (<code>99 * 99 = 9801</code>).</li>\n",
    "<li><code>1,1,1,4,99,5,6,0,99</code> becomes <code><em>30</em>,1,1,4,<em>2</em>,5,6,0,99</code>.</li>\n",
    "</ul>\n",
    "<p>Once you have a working computer, the first step is to restore the gravity assist program (your puzzle input) to the \"1202 program alarm\" state it had just before the last computer caught fire. To do this, <em>before running the program</em>, replace position <code>1</code> with the value <code>12</code> and replace position <code>2</code> with the value <code>2</code>. <em>What value is left at position <code>0</code></em> after the program halts?</p>\n",
    "</blockquote>"
   ]
  },
  {
   "cell_type": "code",
   "execution_count": 1,
   "metadata": {},
   "outputs": [
    {
     "name": "stdout",
     "output_type": "stream",
     "text": [
      "Restored Gravity Assist Program Output: 3409710\n"
     ]
    }
   ],
   "source": [
    "using DelimitedFiles\n",
    "using Base.Iterators\n",
    "\n",
    "program = dropdims(open(f->readdlm(f, ',', Int64), \"Inputs/02.1_Intcode_Program.txt\"), dims=1)\n",
    "\n",
    "instruction = Dict(1 => +, 2 => *)\n",
    "\n",
    "function restore_1202_program_alarm(program)\n",
    "    program[2] = 12\n",
    "    program[3] = 2\n",
    "    return program\n",
    "end\n",
    "\n",
    "restored_gravity_assist_program = restore_1202_program_alarm(program)\n",
    "\n",
    "function evaluate1(program::Array{Int})\n",
    "    for (opcode, in_addr1, in_addr2, out_addr) in take(partition(program, 4), length(program) ÷ 4)\n",
    "        if opcode == 99\n",
    "            break\n",
    "        else\n",
    "            program[out_addr + 1] = instruction[opcode](program[in_addr1 + 1], program[in_addr2 + 1])\n",
    "        end\n",
    "    end\n",
    "    return program\n",
    "end\n",
    "\n",
    "@assert evaluate1([1, 9, 10, 3, 2, 3, 11, 0, 99, 30, 40, 50]) == [3500, 9, 10, 70, 2, 3, 11, 0, 99, 30, 40, 50]\n",
    "@assert evaluate1([1, 0, 0, 0, 99]) == [2, 0, 0, 0, 99]\n",
    "@assert evaluate1([2, 3, 0, 3, 99]) == [2, 3, 0, 6, 99]\n",
    "@assert evaluate1([2, 4, 4, 5, 99, 0]) == [2, 4, 4, 5, 99, 9801]\n",
    "@assert evaluate1([1, 1, 1, 4, 99, 5, 6, 0, 99]) == [30, 1, 1, 4, 2, 5, 6, 0, 99]\n",
    "\n",
    "println(\"Restored Gravity Assist Program Output: \", evaluate1(restored_gravity_assist_program)[1])"
   ]
  },
  {
   "cell_type": "markdown",
   "metadata": {},
   "source": [
    "<blockquote>\n",
    "<h1>Part 2</h1><p>\"Good, the new computer seems to be working correctly!  <em>Keep it nearby</em> during this mission - you'll probably use it again. Real Intcode computers support many more features than your new one, but we'll let you know what they are as you need them.\"</p>\n",
    "<p>\"However, your current priority should be to complete your gravity assist around the Moon. For this mission to succeed, we should settle on some terminology for the parts you've already built.\"</p>\n",
    "<p>Intcode programs are given as a list of integers; these values are used as the initial state for the computer's <em>memory</em>. When you run an Intcode program, make sure to start by initializing memory to the program's values. A position in memory is called an <em>address</em> (for example, the first value in memory is at \"address 0\").</p>\n",
    "<p>Opcodes (like <code>1</code>, <code>2</code>, or <code>99</code>) mark the beginning of an <em>instruction</em>.  The values used immediately after an opcode, if any, are called the instruction's <em>parameters</em>.  For example, in the instruction <code>1,2,3,4</code>, <code>1</code> is the opcode; <code>2</code>, <code>3</code>, and <code>4</code> are the parameters. The instruction <code>99</code> contains only an opcode and has no parameters.</p>\n",
    "<p>The address of the current instruction is called the <em>instruction pointer</em>; it starts at <code>0</code>.  After an instruction finishes, the instruction pointer increases by <em>the number of values in the instruction</em>; until you add more instructions to the computer, this is always <code>4</code> (<code>1</code> opcode + <code>3</code> parameters) for the add and multiply instructions. (The halt instruction would increase the instruction pointer by <code>1</code>, but it halts the program instead.)</p>\n",
    "<p>\"With terminology out of the way, we're ready to proceed. To complete the gravity assist, you need to <em>determine what pair of inputs produces the output <code>19690720</code></em>.\"</p>\n",
    "<p>The inputs should still be provided to the program by replacing the values at addresses <code>1</code> and <code>2</code>, just like before.  In this program, the value placed in address <code>1</code> is called the <em>noun</em>, and the value placed in address <code>2</code> is called the <em>verb</em>.   Each of the two input values will be between <code>0</code> and <code>99</code>, inclusive.</p>\n",
    "<p>Once the program has halted, its output is available at address <code>0</code>, also just like before. Each time you try a pair of inputs, make sure you first <em>reset the computer's memory to the values in the program</em> (your puzzle input) - in other words, don't reuse memory from a previous attempt.</p>\n",
    "<p>Find the input <em>noun</em> and <em>verb</em> that cause the program to produce the output <code>19690720</code>. <em>What is <code>100 * noun + verb</code>?</em> (For example, if <code>noun=12</code> and <code>verb=2</code>, the answer would be <code>1202</code>.)</p>\n",
    "</blockquote>"
   ]
  },
  {
   "cell_type": "markdown",
   "metadata": {},
   "source": [
    "## Updated Part 1 Solution (in Light of Part 2 Prompt)"
   ]
  },
  {
   "cell_type": "code",
   "execution_count": 2,
   "metadata": {},
   "outputs": [
    {
     "name": "stdout",
     "output_type": "stream",
     "text": [
      "Restored Gravity Assist Program Output: 3409710\n"
     ]
    },
    {
     "data": {
      "text/plain": [
       "BenchmarkTools.Trial: \n",
       "  memory estimate:  14.36 KiB\n",
       "  allocs estimate:  222\n",
       "  --------------\n",
       "  minimum time:     61.106 μs (0.00% GC)\n",
       "  median time:      68.847 μs (0.00% GC)\n",
       "  mean time:        71.609 μs (0.97% GC)\n",
       "  maximum time:     2.441 ms (96.57% GC)\n",
       "  --------------\n",
       "  samples:          10000\n",
       "  evals/sample:     1"
      ]
     },
     "execution_count": 2,
     "metadata": {},
     "output_type": "execute_result"
    }
   ],
   "source": [
    "using Base.Iterators\n",
    "using BenchmarkTools\n",
    "using DelimitedFiles\n",
    "\n",
    "gravity_assist_intcode = dropdims(open(f->readdlm(f, ',', Int64), \"Inputs/02.1_Intcode_Program.txt\"), dims=1)\n",
    "\n",
    "\n",
    "halt_program = identity\n",
    "known_instruction = Dict{Int, Tuple{Function, Int}}(1 => (+, 3), 2 => (*, 3), 99 => (halt_program, 0))\n",
    "\n",
    "\n",
    "struct Instruction\n",
    "    operator::Function\n",
    "    n_parameters::Int\n",
    "    Instruction(operator::Function, n_parameters::Int) = new(operator, n_parameters);\n",
    "    Instruction(opcode::Int) = Instruction(known_instruction[opcode]...)\n",
    "end\n",
    "\n",
    "\n",
    "function setinputs(program_memory::Array{Int, 1}, input_address_values::Int...)\n",
    "    program_memory = copy(program_memory)\n",
    "    if length(input_address_values) > 0\n",
    "        first_instruction::Instruction = Instruction(program_memory[1])\n",
    "        program_memory[2:2 + first_instruction.n_parameters - 2] = [input_address_values...]\n",
    "    end\n",
    "    return program_memory\n",
    "end\n",
    "\n",
    "\n",
    "function evaluate(program_memory::Array{Int}, inputs::Int...)\n",
    "    program_memory = setinputs(program_memory, inputs...)\n",
    "    instruction_pointer = 1\n",
    "    while instruction_pointer in 1:length(program_memory)\n",
    "        instruction = Instruction(program_memory[instruction_pointer])\n",
    "        if instruction.operator == halt_program\n",
    "            break\n",
    "        end\n",
    "        parameters = program_memory[(instruction_pointer + 1):(instruction_pointer + instruction.n_parameters)] .+ 1\n",
    "        output_address = pop!(parameters)\n",
    "        program_memory[output_address] = instruction.operator(program_memory[parameters]...)\n",
    "        instruction_pointer += instruction.n_parameters + 1\n",
    "    end\n",
    "    return program_memory[1]\n",
    "end\n",
    "\n",
    "@assert evaluate([1, 9, 10, 3, 2, 3, 11, 0, 99, 30, 40, 50]) == 3500\n",
    "@assert evaluate([1, 0, 0, 0, 99]) == 2\n",
    "@assert evaluate([2, 3, 0, 3, 99]) == 2\n",
    "@assert evaluate([2, 4, 4, 5, 99, 0]) == 2\n",
    "@assert evaluate([1, 1, 1, 4, 99, 5, 6, 0, 99]) == 30\n",
    "\n",
    "println(\"Restored Gravity Assist Program Output: \", evaluate(gravity_assist_intcode, 12, 2))\n",
    "\n",
    "@benchmark evaluate($(gravity_assist_intcode), 12, 2)"
   ]
  },
  {
   "cell_type": "markdown",
   "metadata": {},
   "source": [
    "## Part 2 Solution"
   ]
  },
  {
   "cell_type": "code",
   "execution_count": 3,
   "metadata": {},
   "outputs": [
    {
     "name": "stdout",
     "output_type": "stream",
     "text": [
      "100 * noun + verb: 7912\n"
     ]
    }
   ],
   "source": [
    "function find_noun_and_verb(program_memory)\n",
    "    for (noun, verb) in collect(product(0:99, 0:99))\n",
    "        if evaluate(program_memory, noun, verb) == 19_690_720\n",
    "            return 100 * noun + verb\n",
    "        end\n",
    "    end\n",
    "end\n",
    "\n",
    "println(\"100 * noun + verb: \", find_noun_and_verb(gravity_assist_intcode))"
   ]
  }
 ],
 "metadata": {
  "kernelspec": {
   "display_name": "Julia 1.3.0",
   "language": "julia",
   "name": "julia-1.3"
  },
  "language_info": {
   "file_extension": ".jl",
   "mimetype": "application/julia",
   "name": "julia",
   "version": "1.3.0"
  }
 },
 "nbformat": 4,
 "nbformat_minor": 2
}
